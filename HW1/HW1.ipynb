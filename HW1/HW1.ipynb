{
  "cells": [
    {
      "cell_type": "code",
      "execution_count": 3,
      "metadata": {
        "id": "HnlwVnD6YWq3"
      },
      "outputs": [],
      "source": [
        "import numpy as np"
      ]
    },
    {
      "cell_type": "markdown",
      "metadata": {
        "id": "sbBSounwYWq6"
      },
      "source": [
        "# Q1"
      ]
    },
    {
      "cell_type": "code",
      "execution_count": null,
      "metadata": {
        "id": "MW7aASnfYWq7"
      },
      "outputs": [],
      "source": [
        "#source = \"https://www.geeksforgeeks.org/how-to-compare-two-numpy-arrays/\"\n",
        "\n",
        "def element_wise_comparison(array1, array2):\n",
        "    \"\"\"\n",
        "    Perform element-wise comparisons between two NumPy arrays.\n",
        "\n",
        "    Parameters:\n",
        "    - array1 (numpy.ndarray): First input NumPy array.\n",
        "    - array2 (numpy.ndarray): Second input NumPy array.\n",
        "\n",
        "    Returns:\n",
        "    - tuple: A tuple of NumPy arrays containing the following element-wise comparison results:\n",
        "        - greater_result (numpy.ndarray): Element-wise greater than comparison.\n",
        "        - greater_equal_result (numpy.ndarray): Element-wise greater than or equal to comparison.\n",
        "        - less_result (numpy.ndarray): Element-wise less than comparison.\n",
        "        - less_equal_result (numpy.ndarray): Element-wise less than or equal to comparison.\n",
        "    \"\"\"\n",
        "    greater_result = np.greater(array1,array2)\n",
        "    greater_equal_result = np.greater_equal(array1,array2)\n",
        "    less_result = np.less(array1,array2)\n",
        "    less_equal_result = np.less_equal(array1,array2)\n",
        "\n",
        "    return greater_result, greater_equal_result, less_result, less_equal_result"
      ]
    },
    {
      "cell_type": "code",
      "execution_count": null,
      "metadata": {
        "colab": {
          "base_uri": "https://localhost:8080/"
        },
        "id": "cV1rYSuFYWq8",
        "outputId": "dd00a519-9683-49e1-f7ae-2f55d1c41c3c"
      },
      "outputs": [
        {
          "name": "stdout",
          "output_type": "stream",
          "text": [
            "Greater than:\n",
            "[[False False]\n",
            " [ True  True]]\n",
            "\n",
            "Greater than or equal to:\n",
            "[[ True  True]\n",
            " [ True  True]]\n",
            "\n",
            "Less than:\n",
            "[[False False]\n",
            " [False False]]\n",
            "\n",
            "Less than or equal to:\n",
            "[[ True  True]\n",
            " [False False]]\n"
          ]
        }
      ],
      "source": [
        "array1 = np.array([[1, 2], [3, 4]])\n",
        "array2 = np.array([[1, 2], [2, 3]])\n",
        "\n",
        "greater, greater_equal, less, less_equal = element_wise_comparison(array1, array2)\n",
        "\n",
        "print(\"Greater than:\")\n",
        "print(greater)\n",
        "print(\"\\nGreater than or equal to:\")\n",
        "print(greater_equal)\n",
        "print(\"\\nLess than:\")\n",
        "print(less)\n",
        "print(\"\\nLess than or equal to:\")\n",
        "print(less_equal)"
      ]
    },
    {
      "cell_type": "markdown",
      "metadata": {
        "id": "AY5WIc9CYWq9"
      },
      "source": [
        "# Q2"
      ]
    },
    {
      "cell_type": "code",
      "execution_count": 1,
      "metadata": {
        "id": "aqQMnU8nYWq9"
      },
      "outputs": [],
      "source": [
        "# source = \"https://www.educative.io/blog/numpy-matrix-multiplication\"\n",
        "\n",
        "def array_multiply(array1, array2, method=\"element-wise\"):\n",
        "    \"\"\"\n",
        "    Perform multiplication between two NumPy arrays using the specified method.\n",
        "\n",
        "    Parameters:\n",
        "    - array1 (numpy.ndarray): First input NumPy array.\n",
        "    - array2 (numpy.ndarray): Second input NumPy array.\n",
        "    - method (str, optional): The multiplication method to use. Defaults to \"element-wise\".\n",
        "\n",
        "    Returns:\n",
        "    - numpy.ndarray: The result of the multiplication operation based on the chosen method.\n",
        "    \"\"\"\n",
        "    if method == \"matrix-multiply\":\n",
        "      result = np.dot(array1,array2)\n",
        "      # result = np.matmul(array1,array2)\n",
        "    else:\n",
        "      result = np.multiply(array1,array2)\n",
        "\n",
        "    return result"
      ]
    },
    {
      "cell_type": "code",
      "execution_count": 4,
      "metadata": {
        "colab": {
          "base_uri": "https://localhost:8080/"
        },
        "id": "S5nZgUYtYWq9",
        "outputId": "3e68ba4f-0211-46f5-e1fe-5b08fc50bf73"
      },
      "outputs": [
        {
          "output_type": "stream",
          "name": "stdout",
          "text": [
            "Element-wise multiplication:\n",
            "[[2 0]\n",
            " [3 8]]\n",
            "\n",
            "Matrix multiplication:\n",
            "[[ 4  4]\n",
            " [10  8]]\n"
          ]
        }
      ],
      "source": [
        "array1 = np.array([[1, 2], [3, 4]])\n",
        "array2 = np.array([[2, 0], [1, 2]])\n",
        "\n",
        "# Perform element-wise multiplication\n",
        "element_wise_result = array_multiply(array1, array2, method=\"element-wise\")\n",
        "print(\"Element-wise multiplication:\")\n",
        "print(element_wise_result)\n",
        "\n",
        "# Perform matrix multiplication\n",
        "matrix_multiply_result = array_multiply(array1, array2, method=\"matrix-multiply\")\n",
        "print(\"\\nMatrix multiplication:\")\n",
        "print(matrix_multiply_result)"
      ]
    },
    {
      "cell_type": "markdown",
      "metadata": {
        "id": "8KSh4pFTYWq-"
      },
      "source": [
        "# Q3"
      ]
    },
    {
      "cell_type": "code",
      "execution_count": 5,
      "metadata": {
        "id": "4DH2CdK6YWq-"
      },
      "outputs": [],
      "source": [
        "# source = \"https://www.geeksforgeeks.org/numpy-sum-in-python/\"\n",
        "\n",
        "def broadcast_add(p, q, method=\"row-wise\"):\n",
        "    \"\"\"\n",
        "    Perform addition between two NumPy arrays using broadcasting and the specified method.\n",
        "\n",
        "    Parameters:\n",
        "    - p (numpy.ndarray): First input NumPy array.\n",
        "    - q (numpy.ndarray): Second input NumPy array.\n",
        "    - method (str, optional): The addition method to use. Defaults to \"row-wise\".\n",
        "        - \"row-wise\": Perform row-wise addition, broadcasting q to match the number of rows in p.\n",
        "        - \"column-wise\": Perform column-wise addition, adding q to each column of p.\n",
        "\n",
        "    Returns:\n",
        "    - numpy.ndarray: The result of the addition operation based on the chosen method.\n",
        "\n",
        "    Raises:\n",
        "    - ValueError: If an invalid method is provided or if the shapes are incompatible for the chosen method.\n",
        "    \"\"\"\n",
        "    n = len(q)\n",
        "    new_q = np.arange(n).reshape(n,1)\n",
        "    for i in range(n):\n",
        "      new_q[i] = q[i]\n",
        "    if method == \"column-wise\":\n",
        "      result = np.add(p,new_q)\n",
        "    else:\n",
        "      result = np.add(p,q)\n",
        "\n",
        "    return result"
      ]
    },
    {
      "cell_type": "code",
      "execution_count": 6,
      "metadata": {
        "colab": {
          "base_uri": "https://localhost:8080/"
        },
        "id": "m8WfuZ4qYWq_",
        "outputId": "8877a15c-cd20-4ee3-f3ef-152ee684dc0e"
      },
      "outputs": [
        {
          "output_type": "stream",
          "name": "stdout",
          "text": [
            "Row-wise addition:\n",
            "[[11 22 33]\n",
            " [14 25 36]\n",
            " [17 28 39]]\n",
            "\n",
            "Column-wise addition:\n",
            "[[11 12 13]\n",
            " [24 25 26]\n",
            " [37 38 39]]\n"
          ]
        }
      ],
      "source": [
        "# Example usage with different-shaped arrays\n",
        "p = np.array([[1, 2, 3], [4, 5, 6], [7, 8, 9]])\n",
        "q = np.array([10, 20, 30])\n",
        "\n",
        "# Add q row-wise to p\n",
        "row_wise_result = broadcast_add(p, q, method=\"row-wise\")\n",
        "print(\"Row-wise addition:\")\n",
        "print(row_wise_result)\n",
        "\n",
        "# Add q column-wise to p\n",
        "column_wise_result = broadcast_add(p, q, method=\"column-wise\")\n",
        "print(\"\\nColumn-wise addition:\")\n",
        "print(column_wise_result)"
      ]
    },
    {
      "cell_type": "markdown",
      "metadata": {
        "id": "TsdsJdPzYWq_"
      },
      "source": [
        "# Q4"
      ]
    },
    {
      "cell_type": "code",
      "execution_count": 8,
      "metadata": {
        "id": "VfEZh1lvYWq_",
        "colab": {
          "base_uri": "https://localhost:8080/"
        },
        "outputId": "f11b6e92-0e21-45a1-cde6-b3ff69cd9f73"
      },
      "outputs": [
        {
          "output_type": "stream",
          "name": "stdout",
          "text": [
            "Original Array:\n",
            "[[ 3 10  5  7]\n",
            " [ 6  1  7  7]\n",
            " [ 4  9  7 10]\n",
            " [ 3  8  7  1]]\n",
            "-----------------------\n",
            "After normalization:\n",
            "[[0.22222222 1.         0.44444444 0.66666667]\n",
            " [0.55555556 0.         0.66666667 0.66666667]\n",
            " [0.33333333 0.88888889 0.66666667 1.        ]\n",
            " [0.22222222 0.77777778 0.66666667 0.        ]]\n"
          ]
        }
      ],
      "source": [
        "# source1 = \"https://www.studytonight.com/post/creating-random-valuedarrays-in-numpy\"\n",
        "# source2 = \"https://www.geeksforgeeks.org/how-to-normalize-an-numpy-array-so-the-values-range-exactly-between-0-and-1/\"\n",
        "\n",
        "# Initialize the random matrix\n",
        "x = np.random.randint(1,11,(4,4))\n",
        "y = x\n",
        "print(\"Original Array:\")\n",
        "print(x)\n",
        "\n",
        "print('-----------------------')\n",
        "\n",
        "# Do the normalization\n",
        "\n",
        "\n",
        "\n",
        "#solution1 = it is forbenius normalization\n",
        "# norm = np.linalg.norm(x)\n",
        "# x = x/norm\n",
        "\n",
        "#solution2 = min/max normalization\n",
        "x = (x - np.min(x)) / (np.max(x) - np.min(x))\n",
        "\n",
        "\n",
        "print(\"After normalization:\")\n",
        "print(x)\n"
      ]
    },
    {
      "cell_type": "markdown",
      "metadata": {
        "id": "l89RFYrrYWq_"
      },
      "source": [
        "# Q5"
      ]
    },
    {
      "cell_type": "code",
      "execution_count": 10,
      "metadata": {
        "id": "YRKqYz4kYWq_",
        "colab": {
          "base_uri": "https://localhost:8080/",
          "height": 1000
        },
        "outputId": "fd48ce5d-b968-4704-b7a4-18e6fa2522de"
      },
      "outputs": [
        {
          "output_type": "stream",
          "name": "stderr",
          "text": [
            "<ipython-input-10-47b05b4c56ea>:15: SettingWithCopyWarning: \n",
            "A value is trying to be set on a copy of a slice from a DataFrame\n",
            "\n",
            "See the caveats in the documentation: https://pandas.pydata.org/pandas-docs/stable/user_guide/indexing.html#returning-a-view-versus-a-copy\n",
            "  df['Daily Returns Rate'][0] = np.nan\n"
          ]
        },
        {
          "output_type": "stream",
          "name": "stdout",
          "text": [
            "1) Daily Returns :  0           NaN\n",
            "1     -0.002145\n",
            "2      0.013911\n",
            "3      0.010884\n",
            "4     -0.024109\n",
            "         ...   \n",
            "359    0.006720\n",
            "360   -0.015886\n",
            "361    0.008170\n",
            "362    0.006454\n",
            "363   -0.011010\n",
            "Name: Daily Returns Rate, Length: 364, dtype: float64\n",
            "---------------------------------\n",
            "2) Average :  0.0005548260008486608\n",
            "-------------------------------\n",
            "3) standard deviation :  0.009455978850317194\n",
            "-------------------------------\n",
            "4) Closing Price plot:\n"
          ]
        },
        {
          "output_type": "display_data",
          "data": {
            "text/plain": [
              "<Figure size 640x480 with 1 Axes>"
            ],
            "image/png": "[encoded data removed]"
          },
          "metadata": {}
        },
        {
          "output_type": "stream",
          "name": "stdout",
          "text": [
            "-------------------------------\n",
            "5) Daily Returns plot:\n"
          ]
        },
        {
          "output_type": "display_data",
          "data": {
            "text/plain": [
              "<Figure size 640x480 with 1 Axes>"
            ],
            "image/png": "[encoded data removed]"
          },
          "metadata": {}
        },
        {
          "output_type": "stream",
          "name": "stdout",
          "text": [
            "-------------------------------\n",
            "6) minimum : -0.028963574613605738\n",
            "6) maximum :  0.02878633838810639\n",
            "-------------------------------\n",
            "7) min price info : 82.96821012 \t 4/16/2023\n",
            "7) max price info : 124.6180108 \t 11/29/2023\n"
          ]
        }
      ],
      "source": [
        "import matplotlib.pyplot as plt\n",
        "import pandas as pd\n",
        "\n",
        "# You should write your code here and print or plot the required data asked in homework documentation\n",
        "df = pd.read_csv('data.csv')\n",
        "# df['Closing Price']\n",
        "# len(df['Date'])\n",
        "daily_Returns_rate = []\n",
        "daily_Returns_rate.append(df['Closing Price'][0])\n",
        "for i in range(1,364):\n",
        "  ouput_rate = (df['Closing Price'][i] - df['Closing Price'][i-1]) / df['Closing Price'][i-1]\n",
        "  daily_Returns_rate.append(ouput_rate)\n",
        "df.insert(loc=2, column=\"Daily Returns Rate\", value=daily_Returns_rate)\n",
        "# df.shift(1)\n",
        "df['Daily Returns Rate'][0] = np.nan\n",
        "\n",
        "print(\"1) Daily Returns : \",df['Daily Returns Rate'])\n",
        "\n",
        "print('---------------------------------')\n",
        "\n",
        "avg = df['Daily Returns Rate'].mean()\n",
        "print(\"2) Average : \",avg)\n",
        "print('-------------------------------')\n",
        "\n",
        "standard_deviation = df['Daily Returns Rate'].std()\n",
        "print(\"3) standard deviation : \",standard_deviation)\n",
        "\n",
        "print('-------------------------------')\n",
        "print(\"4) Closing Price plot:\")\n",
        "plt.plot(df['Closing Price'])\n",
        "plt.show()\n",
        "\n",
        "print('-------------------------------')\n",
        "print(\"5) Daily Returns plot:\")\n",
        "plt.plot(df['Daily Returns Rate'])\n",
        "plt.show()\n",
        "\n",
        "print('-------------------------------')\n",
        "print(\"6) minimum :\",df['Daily Returns Rate'].min())\n",
        "print(\"6) maximum : \",df['Daily Returns Rate'].max())\n",
        "print('-------------------------------')\n",
        "\n",
        "max_index = df.index[df['Closing Price'] == df['Closing Price'].max()][0]\n",
        "min_index = df.index[df['Closing Price'] == df['Closing Price'].min()][0]\n",
        "\n",
        "print(\"7) min price info :\",df['Closing Price'][min_index],\"\\t\",df['Date'][min_index])\n",
        "print(\"7) max price info :\",df['Closing Price'][max_index],\"\\t\",df['Date'][max_index])\n",
        "\n",
        "\n"
      ]
    },
    {
      "cell_type": "markdown",
      "metadata": {
        "id": "lfT8kGeQYWrA"
      },
      "source": [
        "# Q6"
      ]
    },
    {
      "cell_type": "code",
      "execution_count": null,
      "metadata": {
        "id": "RO9obR5JYWrA"
      },
      "outputs": [],
      "source": [
        "def for_loop_feed_forward(X, w):\n",
        "    \"\"\"\n",
        "    Perform a feed-forward operation using a for loop.\n",
        "\n",
        "    Parameters:\n",
        "    - X (numpy.ndarray): Input data matrix of shape (num_samples, num_features).\n",
        "    - w (numpy.ndarray): Weight matrix of shape (num_features, 1).\n",
        "\n",
        "    Returns:\n",
        "    - numpy.ndarray: Output matrix of shape (num_samples, 1).\n",
        "    \"\"\"\n",
        "\n",
        "\n",
        "    outputs = np.empty(shape=(X.shape[0],w.shape[1]))\n",
        "    for i in range(X.shape[0]):\n",
        "      for j in range(X.shape[1]):\n",
        "        outputs[i] += X[i,j] * w[i]\n",
        "\n",
        "\n",
        "    #### we don't use k for loop because w.shape[1] = 1\n",
        "    # for i in range(X.shape[0]):\n",
        "    #   for j in range(X.shape[1]):\n",
        "    #     for k in range(w.shape[1]):\n",
        "    #     outputs[i,k] += X[i,j] * w[i,k]\n",
        "\n",
        "    return outputs\n",
        "\n",
        "\n",
        "# source = \"youtube / Basics of Deep Learning Part 5: Implementing the Feedforward Algorithm with NumPy\"\n",
        "def vectorized_feed_forward(X, w):\n",
        "    \"\"\"\n",
        "    Perform a feed-forward operation using vectorization.\n",
        "\n",
        "    Parameters:\n",
        "    - X (numpy.ndarray): Input data matrix of shape (num_samples, num_features).\n",
        "    - w (numpy.ndarray): Weight matrix of shape (num_features, 1).\n",
        "\n",
        "    Returns:\n",
        "    - numpy.ndarray: Output matrix of shape (num_samples, 1).\n",
        "    \"\"\"\n",
        "    np.dot(X,w)\n",
        "\n",
        "    return outputs"
      ]
    },
    {
      "cell_type": "code",
      "execution_count": null,
      "metadata": {
        "colab": {
          "base_uri": "https://localhost:8080/"
        },
        "id": "kr2KHKAfYWrA",
        "outputId": "2dd2e9c5-3140-41bd-febe-17c457276346"
      },
      "outputs": [
        {
          "name": "stdout",
          "output_type": "stream",
          "text": [
            "[[691. ]\n",
            " [413.5]\n",
            " [565. ]]\n",
            "Time spent on calculating the outputs using for loops: \n",
            "0.003123760223388672\n",
            "-----------------\n",
            "[[691. ]\n",
            " [413.5]\n",
            " [565. ]]\n",
            "Time spent on calculating the outputs using vectorization: \n",
            "0.0025293827056884766\n"
          ]
        }
      ],
      "source": [
        "import time\n",
        "\n",
        "# generate random samples\n",
        "\n",
        "X =  np.random.randint(1,11,size=(3,4))\n",
        "w =  np.random.randint(1,11,size=(4,1))\n",
        "\n",
        "start_time = time.time()\n",
        "outputs = for_loop_feed_forward(X, w)\n",
        "print(outputs)\n",
        "\n",
        "print(\"Time spent on calculating the outputs using for loops: \")\n",
        "print(time.time() - start_time)\n",
        "\n",
        "print('-----------------')\n",
        "start_time = time.time()\n",
        "outputs = vectorized_feed_forward(X, w)\n",
        "print(outputs)\n",
        "\n",
        "print(\"Time spent on calculating the outputs using vectorization: \")\n",
        "print(time.time() - start_time)"
      ]
    },
    {
      "cell_type": "markdown",
      "metadata": {
        "id": "d4HZvSTQYWrA"
      },
      "source": [
        "# Q7"
      ]
    },
    {
      "cell_type": "code",
      "execution_count": 11,
      "metadata": {
        "id": "IKSWN6vgYWrA"
      },
      "outputs": [],
      "source": [
        "def replace_elements_above_threshold(array, threshold):\n",
        "    \"\"\"\n",
        "    Replace elements in a NumPy array that are higher than the given threshold with a specified value.\n",
        "\n",
        "    Parameters:\n",
        "    - array (numpy.ndarray): Input NumPy array.\n",
        "    - threshold (float): Threshold value to compare elements with.\n",
        "\n",
        "    Returns:\n",
        "    - numpy.ndarray: NumPy array with elements replaced above the threshold.\n",
        "    \"\"\"\n",
        "    array[array <= threshold] = 0\n",
        "    array[array > threshold] = 1\n",
        "    modified_arr = array\n",
        "\n",
        "\n",
        "    return modified_arr"
      ]
    },
    {
      "cell_type": "code",
      "execution_count": 12,
      "metadata": {
        "id": "NJ5sVSLNYWrA",
        "colab": {
          "base_uri": "https://localhost:8080/"
        },
        "outputId": "a6c40d52-cd93-4f8f-ca95-4066c55e5306"
      },
      "outputs": [
        {
          "output_type": "stream",
          "name": "stdout",
          "text": [
            "[[0 0 0]\n",
            " [0 0 1]\n",
            " [1 1 1]]\n"
          ]
        }
      ],
      "source": [
        "input_array = np.array([[1, 2, 3], [4, 5, 6], [7, 8, 9]])\n",
        "threshold_value = 5\n",
        "result_array = replace_elements_above_threshold(input_array, threshold_value)\n",
        "print(result_array)"
      ]
    },
    {
      "cell_type": "markdown",
      "metadata": {
        "id": "22Fm1VF6YWrB"
      },
      "source": [
        "# Q8"
      ]
    },
    {
      "cell_type": "code",
      "execution_count": 52,
      "metadata": {
        "id": "vGh-1aC2YWrB"
      },
      "outputs": [],
      "source": [
        "class Matrix:\n",
        "    def __init__(self, matrix):\n",
        "        \"\"\"\n",
        "        Initialize a Matrix object with a given list of lists.\n",
        "\n",
        "        Parameters:\n",
        "        - matrix (list of lists): Input list of lists representing the matrix.\n",
        "        \"\"\"\n",
        "        self.matrix = matrix\n",
        "\n",
        "    def shape_comparison(self,sec_matrix):\n",
        "      if len(self.matrix) != len(sec_matrix.matrix):\n",
        "        return False\n",
        "\n",
        "      for i in range(len(self.matrix)):\n",
        "        if len(self.matrix[i]) != len(sec_matrix.matrix[i]):\n",
        "          return False\n",
        "\n",
        "      return True\n",
        "\n",
        "    def is_equal(self, second_matrix):\n",
        "        \"\"\"\n",
        "        Check if this Matrix object is equal to another Matrix object.\n",
        "\n",
        "        Parameters:\n",
        "        - second_matrix (Matrix): Another Matrix object for comparison.\n",
        "\n",
        "        Returns:\n",
        "        - bool: True if the matrices are equal, False otherwise.\n",
        "        \"\"\"# i added a sentence for the returns\n",
        "\n",
        "        if not self.shape_comparison(second_matrix):\n",
        "          return \"they don't have equal shapes -> they are not equal\",False\n",
        "\n",
        "        for i in range(len(self.matrix)):\n",
        "          for j in range(len(self.matrix[i])):\n",
        "            if self.matrix[i][j] != second_matrix.matrix[i][j]:\n",
        "              return f\"they don't have same value at position{i,j} -> they are not equal.\",False\n",
        "\n",
        "        return \"they are equal\",True\n",
        "\n",
        "\n",
        "    #### this function didn't work properly.\n",
        "\n",
        "    # def my_zeros_func(self):\n",
        "    #   output = self.matrix\n",
        "    #   for i in range(len(self.matrix)):\n",
        "    #     for j in range(len(self.matrix[i])):\n",
        "    #       output[i][j] = False\n",
        "\n",
        "    #   return output\n",
        "\n",
        "\n",
        "    def is_higher_elementwise(self, second_matrix):\n",
        "        \"\"\"\n",
        "        Check if this Matrix object has higher values element-wise compared to another Matrix object.\n",
        "\n",
        "        Parameters:\n",
        "        - second_matrix (Matrix): Another Matrix object for comparison.\n",
        "\n",
        "        Returns:\n",
        "        - Matrix: Matrix same shape of the input.\n",
        "        \"\"\"\n",
        "        if not self.shape_comparison(second_matrix):\n",
        "          return \"they don't have same shape -> we cannot compare them\"\n",
        "\n",
        "        res = [[False for _ in range(len(self.matrix[0]))] for _ in range(len(self.matrix))]\n",
        "        for i in range(len(self.matrix)):\n",
        "          for j in range(len(self.matrix[i])):\n",
        "            if self.matrix[i][j] > second_matrix.matrix[i][j]:\n",
        "              res[i][j] = True\n",
        "\n",
        "        return res\n",
        "\n",
        "\n",
        "    # def bigger_set(self,second_matrix):\n",
        "    #   if len(self.matrix) < len(second_matrix.matrix):\n",
        "    #     return False\n",
        "    #   for i in range(len(self.matrix)):\n",
        "    #     if len(self.matrix[i]) < len(second_matrix.matrix[i]):\n",
        "    #       return False\n",
        "    #   return True\n",
        "\n",
        "\n",
        "\n",
        "    def is_subset(self, second_matrix):\n",
        "        \"\"\"\n",
        "        Check if this Matrix object is a subset of another Matrix object.\n",
        "\n",
        "        Parameters:\n",
        "        - second_matrix (Matrix): Another Matrix object for comparison.\n",
        "\n",
        "        Returns:\n",
        "        - bool: True if this matrix is a subset of 'second_matrix', False otherwise.\n",
        "        \"\"\"\n",
        "        # if self.is_equal(second_matrix):\n",
        "        #   return \"they are equal -> we know that equal sets are subsets of each other.\",True\n",
        "\n",
        "        # if not self.bigger_set(second_matrix):\n",
        "        #     return \"the second set is bigger that the first one.\",False\n",
        "        res = [[False for _ in range(len(second_matrix.matrix[0]))] for _ in range(len(second_matrix.matrix))]\n",
        "        idx = [[0 for _ in range(len(second_matrix.matrix[0]))] for _ in range(len(second_matrix.matrix))]\n",
        "        is_matrix = [[0 for _ in range(len(second_matrix.matrix[0]))] for _ in range(len(second_matrix.matrix))]\n",
        "\n",
        "        for i in range(len(self.matrix)):\n",
        "          for j in range(len(second_matrix.matrix)):\n",
        "            for k in range(len(second_matrix.matrix[0])):\n",
        "              if second_matrix.matrix[k][j] in self.matrix[i]:\n",
        "                res[k][j] = True\n",
        "                idx[k][j] = i\n",
        "                # is_matrix[k][j] = j\n",
        "\n",
        "\n",
        "        for i in range(len(idx)):\n",
        "          if len(set(idx[i])) != 1:\n",
        "            return \"it's not subset\",False\n",
        "\n",
        "        # ls = is_matrix[0][0]\n",
        "        # for i in range(len(is_matrix)):\n",
        "        #   for j in range(len(is_matrix)):\n",
        "        #     if ls != is_matrix[i][j]:\n",
        "        #       return \"it's not a matrix\"\n",
        "\n",
        "\n",
        "        return \"This matrix is a subset of the main matrix\", True,res,idx\n",
        "\n",
        "\n",
        "    def dot_product(self, second_matrix):\n",
        "        \"\"\"\n",
        "        Calculate the dot product between this Matrix object and another Matrix object.\n",
        "\n",
        "        Parameters:\n",
        "        - second_matrix (Matrix): Another Matrix object for the dot product.\n",
        "\n",
        "        Returns:\n",
        "        - Matrix: The result of the dot product as a numpy.ndarray.\n",
        "        \"\"\"\n",
        "        output = []\n",
        "        for i in range(len(self.matrix)):\n",
        "          ls = []\n",
        "          for j in range(len(second_matrix.matrix[0])):\n",
        "            add = 0\n",
        "            for k in range(len(self.matrix[i])):\n",
        "              add += self.matrix[i][k] * second_matrix.matrix[k][j]\n",
        "            ls.append(add)\n",
        "          output.append(ls)\n",
        "\n",
        "        return output\n"
      ]
    },
    {
      "cell_type": "code",
      "execution_count": 53,
      "metadata": {
        "id": "HGxPik4VYWrB",
        "colab": {
          "base_uri": "https://localhost:8080/"
        },
        "outputId": "02599543-d25e-45f7-ca6b-666687e6fa27"
      },
      "outputs": [
        {
          "output_type": "stream",
          "name": "stdout",
          "text": [
            "(\"they don't have same value at position(0, 0) -> they are not equal.\", False)\n"
          ]
        }
      ],
      "source": [
        "matrix1 = Matrix([[1, 2, 3], [4, 5, 6], [7, 8, 9]])\n",
        "\n",
        "matrix2 = Matrix([[0, 0, 0], [4, 5, 6], [7, 8, 9]])\n",
        "\n",
        "print(matrix1.is_equal(matrix2))\n",
        "\n",
        "# test equality of matrices here and show the result #\n"
      ]
    },
    {
      "cell_type": "code",
      "execution_count": 15,
      "metadata": {
        "id": "gqYiA0WtYWrB",
        "colab": {
          "base_uri": "https://localhost:8080/"
        },
        "outputId": "8e8e4f50-6652-4a51-c673-0e2e859535bb"
      },
      "outputs": [
        {
          "output_type": "stream",
          "name": "stdout",
          "text": [
            "[[True, False, True], [True, False, False], [False, True, False]]\n"
          ]
        }
      ],
      "source": [
        "matrix3 = Matrix([[0, 0, 0], [10, 20, 30], [-1, 8, 10]])\n",
        "matrix3_test = Matrix([[3, -2, 4], [11, 17, 30], [-4, 18, 10]])\n",
        "\n",
        "\n",
        "# test proportion of matrices here and show the result #\n",
        "print(matrix3_test.is_higher_elementwise(matrix3))\n"
      ]
    },
    {
      "cell_type": "code",
      "execution_count": 55,
      "metadata": {
        "id": "YHX17G2tYWrB",
        "colab": {
          "base_uri": "https://localhost:8080/"
        },
        "outputId": "02b9f430-1305-4fdb-f1b0-d361a5fc2267"
      },
      "outputs": [
        {
          "output_type": "stream",
          "name": "stdout",
          "text": [
            "('This matrix is a subset of the main matrix', True, [[True, True], [True, True]], [[1, 1], [2, 2]])\n",
            "('This matrix is a subset of the main matrix', True, [[True, True], [True, True]], [[0, 0], [1, 1]])\n",
            "(\"it's not subset\", False)\n"
          ]
        }
      ],
      "source": [
        "matrix4 = Matrix([[5, 6], [8, 9]])\n",
        "matrix5 = Matrix([[1, 2], [4, 5]])\n",
        "matrix6 = Matrix([[1, 2], [3, 4]])\n",
        "\n",
        "\n",
        "\n",
        "\n",
        "# test subset of matrices here and show the result #\n",
        "print(matrix1.is_subset(matrix4))\n",
        "print(matrix1.is_subset(matrix5))\n",
        "print(matrix1.is_subset(matrix6))\n",
        "\n"
      ]
    },
    {
      "cell_type": "code",
      "source": [],
      "metadata": {
        "id": "XMj3pjHWDUrq"
      },
      "execution_count": null,
      "outputs": []
    },
    {
      "cell_type": "code",
      "execution_count": 18,
      "metadata": {
        "id": "JHOoNofSYWrB",
        "colab": {
          "base_uri": "https://localhost:8080/"
        },
        "outputId": "b1406ced-477f-4f23-9eb9-67cfd6f1806b"
      },
      "outputs": [
        {
          "output_type": "execute_result",
          "data": {
            "text/plain": [
              "[[11, 7], [14, 18], [7, 19]]"
            ]
          },
          "metadata": {},
          "execution_count": 18
        }
      ],
      "source": [
        "matrix7 = Matrix([[3, 1], [2, 4], [-1, 5]])\n",
        "matrix8 = Matrix([[3, 1], [2, 4]])\n",
        "\n",
        "# test product of matrices here and show the result #\n",
        "matrix7.dot_product(matrix8)\n"
      ]
    }
  ],
  "metadata": {
    "colab": {
      "provenance": []
    },
    "kernelspec": {
      "display_name": "Python 3",
      "name": "python3"
    },
    "language_info": {
      "name": "python"
    }
  },
  "nbformat": 4,
  "nbformat_minor": 0
}