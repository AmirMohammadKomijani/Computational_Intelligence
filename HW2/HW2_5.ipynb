{
  "cells": [
    {
      "cell_type": "markdown",
      "metadata": {
        "id": "VQTnmFNCjozW"
      },
      "source": [
        "*italicized text*"
      ]
    },
    {
      "cell_type": "code",
      "execution_count": 1,
      "metadata": {
        "id": "KreAAQBSECR1"
      },
      "outputs": [],
      "source": [
        "sources = \"https://www.youtube.com/watch?v=tUoUdOdTkRw\" , \"https://pyimagesearch.com/2021/05/06/backpropagation-from-scratch-with-python/\", \"https://www.geeksforgeeks.org/implementation-of-perceptron-algorithm-for-xnor-logic-gate-with-2-bit-binary-input/\""
      ]
    },
    {
      "cell_type": "code",
      "execution_count": 26,
      "metadata": {
        "id": "7nhQRhZ5jp1t"
      },
      "outputs": [],
      "source": [
        "import numpy as np"
      ]
    },
    {
      "cell_type": "markdown",
      "metadata": {
        "id": "K_OqQSRyELDG"
      },
      "source": [
        "Variables"
      ]
    },
    {
      "cell_type": "code",
      "execution_count": 27,
      "metadata": {
        "id": "gAfx4fvtEJCp"
      },
      "outputs": [],
      "source": [
        "alpha = 0.1 # learning rate\n",
        "epochs = 10000 # number of steps\n",
        "input_size = 2\n",
        "hidden_size = 4\n",
        "output_size = 1\n",
        "\n",
        "X = np.array([[0, 0], [0, 1], [1, 0], [1, 1]])\n",
        "Y = np.array([[1], [0], [0], [1]])"
      ]
    },
    {
      "cell_type": "markdown",
      "metadata": {
        "id": "sMWr0ZgcEyB3"
      },
      "source": [
        "Initialize weights"
      ]
    },
    {
      "cell_type": "code",
      "execution_count": 28,
      "metadata": {
        "id": "eu3x3oPaEJKJ"
      },
      "outputs": [],
      "source": [
        "np.random.seed(0)\n",
        "input_layer_weights = np.random.uniform(size=(input_size, hidden_size))\n",
        "output_layer_weights = np.random.uniform(size=(hidden_size, output_size))"
      ]
    },
    {
      "cell_type": "markdown",
      "metadata": {
        "id": "xjDgVGyfKDC3"
      },
      "source": [
        "Sigmoid Function"
      ]
    },
    {
      "cell_type": "code",
      "execution_count": 29,
      "metadata": {
        "id": "9Y6Fx3QNEJMw"
      },
      "outputs": [],
      "source": [
        "def sigmoid(x):\n",
        "    return 1 / (1 + np.exp(-x))\n",
        "\n",
        "def sigmoid_derivative(x):\n",
        "    return x * (1 - x)"
      ]
    },
    {
      "cell_type": "markdown",
      "metadata": {
        "id": "a3A3qq8BLNb4"
      },
      "source": [
        "Backpropagation Algorithm\n",
        "\n",
        "\n",
        "> Forward Pass\n",
        "\n",
        "\n",
        "> Backward Pass\n",
        "\n",
        "\n",
        "\n",
        "\n",
        "\n"
      ]
    },
    {
      "cell_type": "code",
      "execution_count": 30,
      "metadata": {
        "colab": {
          "base_uri": "https://localhost:8080/"
        },
        "id": "1mplhZntEJPP",
        "outputId": "a7d36049-048e-4397-d560-fbcb28483854"
      },
      "outputs": [
        {
          "name": "stdout",
          "output_type": "stream",
          "text": [
            "XNOR predictions:\n",
            "Input: [0 0], Predicted: 1.0\n",
            "Input: [0 1], Predicted: 0.0\n",
            "Input: [1 0], Predicted: 0.0\n",
            "Input: [1 1], Predicted: 1.0\n"
          ]
        }
      ],
      "source": [
        "input_layer_weights = np.random.uniform(size=(input_size, hidden_size))\n",
        "output_layer_weights = np.random.uniform(size=(hidden_size, output_size))\n",
        "\n",
        "# Training the neural network\n",
        "for epoch in range(epochs):\n",
        "    # Forward pass\n",
        "    hidden_layer_input = np.dot(X, input_layer_weights)\n",
        "    hidden_layer_output = sigmoid(hidden_layer_input)\n",
        "\n",
        "    output_layer_input = np.dot(hidden_layer_output, output_layer_weights)\n",
        "    output_layer_output = sigmoid(output_layer_input)\n",
        "\n",
        "    # Calculate the error\n",
        "    error = Y - output_layer_output\n",
        "\n",
        "    # Backpropagation\n",
        "    delta_output = error * sigmoid_derivative(output_layer_output)\n",
        "    error_hidden_layer = delta_output.dot(output_layer_weights.T)\n",
        "    delta_hidden_layer = error_hidden_layer * sigmoid_derivative(hidden_layer_output)\n",
        "\n",
        "    # Update the weights and biases\n",
        "    output_layer_weights += hidden_layer_output.T.dot(delta_output) * alpha\n",
        "    input_layer_weights += X.T.dot(delta_hidden_layer) * alpha\n",
        "\n",
        "hidden_layer_output = sigmoid(np.dot(X, input_layer_weights))\n",
        "hidden_layer_output = sigmoid(np.dot(hidden_layer_output, output_layer_weights))\n",
        "\n",
        "predictions = np.round(hidden_layer_output)\n",
        "\n",
        "print(\"XNOR predictions:\")\n",
        "for i in range(len(X)):\n",
        "    print(f\"Input: {X[i]}, Predicted: {predictions[i][0]}\")\n"
      ]
    }
  ],
  "metadata": {
    "colab": {
      "provenance": []
    },
    "kernelspec": {
      "display_name": "Python 3",
      "name": "python3"
    },
    "language_info": {
      "name": "python"
    }
  },
  "nbformat": 4,
  "nbformat_minor": 0
}
