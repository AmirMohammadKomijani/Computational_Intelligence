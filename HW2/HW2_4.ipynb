{
  "cells": [
    {
      "cell_type": "code",
      "source": [
        "sources = \"https://keras.io/api/models/sequential/\" , \"https://keras.io/api/models/model_training_apis/\""
      ],
      "metadata": {
        "id": "aRyVebrKpdVh"
      },
      "execution_count": null,
      "outputs": []
    },
    {
      "cell_type": "markdown",
      "metadata": {
        "id": "mqg4KSj_8Nz1"
      },
      "source": [
        "# In this notebook, we run an MLP model on dataset hoda and examine the results in terms of underfitting, fitting and overfitting."
      ]
    },
    {
      "cell_type": "markdown",
      "metadata": {
        "id": "IVk_5eoO76sj"
      },
      "source": [
        "## Download dataset"
      ]
    },
    {
      "cell_type": "code",
      "execution_count": null,
      "metadata": {
        "colab": {
          "base_uri": "https://localhost:8080/"
        },
        "id": "TjoQGt01Ujx1",
        "outputId": "df6bb472-b3a0-4060-89e1-31c1649c8d51"
      },
      "outputs": [
        {
          "output_type": "stream",
          "name": "stdout",
          "text": [
            "Downloading...\n",
            "From: https://drive.google.com/uc?id=1QJrQsEYOfPBn1LoIeYMZ2HFBRC0AY-6F\n",
            "To: /content/dataset.py\n",
            "100% 909/909 [00:00<00:00, 3.28MB/s]\n",
            "Downloading...\n",
            "From: https://drive.google.com/uc?id=1zStcaVl_34RrYIfVObuM4xzB6s8xwvBi\n",
            "To: /content/Data_hoda_full.mat\n",
            "100% 3.99M/3.99M [00:00<00:00, 19.8MB/s]\n"
          ]
        }
      ],
      "source": [
        "!gdown --fuzzy https://drive.google.com/file/d/1QJrQsEYOfPBn1LoIeYMZ2HFBRC0AY-6F/view?usp=sharing\n",
        "!gdown --fuzzy https://drive.google.com/file/d/1zStcaVl_34RrYIfVObuM4xzB6s8xwvBi/view?usp=sharing"
      ]
    },
    {
      "cell_type": "markdown",
      "metadata": {
        "id": "ruebTHNSBqRD"
      },
      "source": [
        "## Importing libraries"
      ]
    },
    {
      "cell_type": "code",
      "execution_count": null,
      "metadata": {
        "id": "WhoXKRptiRDe"
      },
      "outputs": [],
      "source": [
        "import keras\n",
        "import numpy as np\n",
        "import matplotlib.pyplot as plt\n",
        "\n",
        "from keras.models import Sequential\n",
        "from keras.layers import Dense,  Activation\n",
        "from dataset import load_hoda"
      ]
    },
    {
      "cell_type": "markdown",
      "metadata": {
        "id": "ku75DKlg_f9y"
      },
      "source": [
        "# Load dataset"
      ]
    },
    {
      "cell_type": "code",
      "execution_count": null,
      "metadata": {
        "id": "4D7VhBCKiVWl"
      },
      "outputs": [],
      "source": [
        "x_train_original, y_train_original, x_test_original, y_test_original = load_hoda()"
      ]
    },
    {
      "cell_type": "markdown",
      "metadata": {
        "id": "Wruhn4AmB5zC"
      },
      "source": [
        "### Converting x_train and x_test to ndarray array format and converting y_train and y_test to one-hot-encoding:\n",
        "####First, we have defined a simple function that prints the dimensions, data type and information of the loaded dataset. We will print this information before and after data preprocessing to notice the changes!"
      ]
    },
    {
      "cell_type": "code",
      "execution_count": null,
      "metadata": {
        "id": "nbSZTm93iVb9"
      },
      "outputs": [],
      "source": [
        "# Preprocess input data for Keras.\n",
        "x_train = np.array(x_train_original)\n",
        "y_train = keras.utils.to_categorical(y_train_original, num_classes=10)\n",
        "x_test = np.array(x_test_original)\n",
        "y_test = keras.utils.to_categorical(y_test_original, num_classes=10)"
      ]
    },
    {
      "cell_type": "code",
      "execution_count": null,
      "metadata": {
        "id": "u5Gvz63iiVZV"
      },
      "outputs": [],
      "source": [
        "def print_data_info(x_train, y_train, x_test, y_test):\n",
        "    #Check data Type\n",
        "    print (\"\\ttype(x_train): {}\".format(type(x_train)))\n",
        "    print (\"\\ttype(y_train): {}\".format(type(y_train)))\n",
        "\n",
        "    #check data Shape\n",
        "    print (\"\\tx_train.shape: {}\".format(np.shape(x_train)))\n",
        "    print (\"\\ty_train.shape: {}\".format(np.shape(y_train)))\n",
        "    print (\"\\tx_test.shape: {}\".format(np.shape(x_test)))\n",
        "    print (\"\\ty_test.shape: {}\".format(np.shape(y_test)))\n",
        "\n",
        "    #sample data\n",
        "    print (\"\\ty_train[0]: {}\".format(y_train[0]))"
      ]
    },
    {
      "cell_type": "code",
      "execution_count": null,
      "metadata": {
        "colab": {
          "base_uri": "https://localhost:8080/"
        },
        "id": "0C5eJsmeiVe2",
        "outputId": "cd4fbddf-62ef-43f5-b807-987c9322d6b5"
      },
      "outputs": [
        {
          "output_type": "stream",
          "name": "stdout",
          "text": [
            "Before Preprocessing:\n",
            "\ttype(x_train): <class 'numpy.ndarray'>\n",
            "\ttype(y_train): <class 'numpy.ndarray'>\n",
            "\tx_train.shape: (1000, 25)\n",
            "\ty_train.shape: (1000,)\n",
            "\tx_test.shape: (200, 25)\n",
            "\ty_test.shape: (200,)\n",
            "\ty_train[0]: 6\n",
            "After Preprocessing:\n",
            "\ttype(x_train): <class 'numpy.ndarray'>\n",
            "\ttype(y_train): <class 'numpy.ndarray'>\n",
            "\tx_train.shape: (1000, 25)\n",
            "\ty_train.shape: (1000, 10)\n",
            "\tx_test.shape: (200, 25)\n",
            "\ty_test.shape: (200, 10)\n",
            "\ty_train[0]: [0. 0. 0. 0. 0. 0. 1. 0. 0. 0.]\n"
          ]
        }
      ],
      "source": [
        "print(\"Before Preprocessing:\")\n",
        "print_data_info(x_train_original, y_train_original, x_test_original, y_test_original)\n",
        "print(\"After Preprocessing:\")\n",
        "print_data_info(x_train, y_train, x_test, y_test)"
      ]
    },
    {
      "cell_type": "code",
      "execution_count": null,
      "metadata": {
        "id": "ignnQ8cqidv_"
      },
      "outputs": [],
      "source": [
        "x_train = x_train.astype('float32')\n",
        "x_test = x_test.astype('float32')\n",
        "x_train /= 255\n",
        "x_test /= 255"
      ]
    },
    {
      "cell_type": "code",
      "execution_count": null,
      "metadata": {
        "id": "cEQisVlqidyt"
      },
      "outputs": [],
      "source": [
        "# In this Create the model, input dim=25 and output dim = 10\n",
        "\n",
        "##################################\n",
        "# you code here\n",
        "##################################\n",
        "model = Sequential()\n",
        "model.add(Dense(256, input_dim=25, activation='relu'))\n",
        "model.add(Dense(128, activation='tanh'))\n",
        "model.add(Dense(128, activation='sigmoid'))\n",
        "model.add(Dense(10, activation='softmax'))"
      ]
    },
    {
      "cell_type": "code",
      "execution_count": null,
      "metadata": {
        "id": "gk4rIwjbid3W",
        "colab": {
          "base_uri": "https://localhost:8080/"
        },
        "outputId": "e7e24bd8-0b29-4e46-f686-b73c928bb314"
      },
      "outputs": [
        {
          "output_type": "stream",
          "name": "stdout",
          "text": [
            "Model: \"sequential_2\"\n",
            "_________________________________________________________________\n",
            " Layer (type)                Output Shape              Param #   \n",
            "=================================================================\n",
            " dense_6 (Dense)             (None, 256)               6656      \n",
            "                                                                 \n",
            " dense_7 (Dense)             (None, 128)               32896     \n",
            "                                                                 \n",
            " dense_8 (Dense)             (None, 128)               16512     \n",
            "                                                                 \n",
            " dense_9 (Dense)             (None, 10)                1290      \n",
            "                                                                 \n",
            "=================================================================\n",
            "Total params: 57354 (224.04 KB)\n",
            "Trainable params: 57354 (224.04 KB)\n",
            "Non-trainable params: 0 (0.00 Byte)\n",
            "_________________________________________________________________\n"
          ]
        }
      ],
      "source": [
        "model.summary()"
      ]
    },
    {
      "cell_type": "markdown",
      "metadata": {
        "id": "XVBSerPdCxnL"
      },
      "source": [
        "## Compile model"
      ]
    },
    {
      "cell_type": "code",
      "execution_count": null,
      "metadata": {
        "id": "ZJVfanv2id52"
      },
      "outputs": [],
      "source": [
        "# In this cell compile mode, set loss function and optimizer and get metrics accuracy\n",
        "\n",
        "##################################\n",
        "# you code here\n",
        "##################################\n",
        "model.compile(loss='categorical_crossentropy', optimizer='adam', metrics=['accuracy'])\n"
      ]
    },
    {
      "cell_type": "markdown",
      "metadata": {
        "id": "Uz92ZcWOJFFU"
      },
      "source": [
        "## Fit model"
      ]
    },
    {
      "cell_type": "code",
      "execution_count": null,
      "metadata": {
        "id": "ZaKtROcxinbV",
        "colab": {
          "base_uri": "https://localhost:8080/"
        },
        "outputId": "6b097fb4-141b-4f92-ffe2-c26189b118bf"
      },
      "outputs": [
        {
          "output_type": "stream",
          "name": "stdout",
          "text": [
            "Epoch 1/100\n",
            "16/16 [==============================] - 1s 21ms/step - loss: 2.2064 - accuracy: 0.2970 - val_loss: 2.0115 - val_accuracy: 0.5900\n",
            "Epoch 2/100\n",
            "16/16 [==============================] - 0s 7ms/step - loss: 1.7461 - accuracy: 0.6590 - val_loss: 1.4223 - val_accuracy: 0.7550\n",
            "Epoch 3/100\n",
            "16/16 [==============================] - 0s 7ms/step - loss: 1.1746 - accuracy: 0.7420 - val_loss: 0.9611 - val_accuracy: 0.7800\n",
            "Epoch 4/100\n",
            "16/16 [==============================] - 0s 7ms/step - loss: 0.8265 - accuracy: 0.8030 - val_loss: 0.7304 - val_accuracy: 0.8450\n",
            "Epoch 5/100\n",
            "16/16 [==============================] - 0s 7ms/step - loss: 0.6428 - accuracy: 0.8320 - val_loss: 0.6066 - val_accuracy: 0.8750\n",
            "Epoch 6/100\n",
            "16/16 [==============================] - 0s 7ms/step - loss: 0.5338 - accuracy: 0.8640 - val_loss: 0.5247 - val_accuracy: 0.8800\n",
            "Epoch 7/100\n",
            "16/16 [==============================] - 0s 6ms/step - loss: 0.4562 - accuracy: 0.8970 - val_loss: 0.4607 - val_accuracy: 0.8850\n",
            "Epoch 8/100\n",
            "16/16 [==============================] - 0s 6ms/step - loss: 0.4053 - accuracy: 0.8940 - val_loss: 0.4187 - val_accuracy: 0.8950\n",
            "Epoch 9/100\n",
            "16/16 [==============================] - 0s 7ms/step - loss: 0.3611 - accuracy: 0.9070 - val_loss: 0.3762 - val_accuracy: 0.8950\n",
            "Epoch 10/100\n",
            "16/16 [==============================] - 0s 7ms/step - loss: 0.3241 - accuracy: 0.9170 - val_loss: 0.3431 - val_accuracy: 0.9200\n",
            "Epoch 11/100\n",
            "16/16 [==============================] - 0s 6ms/step - loss: 0.2923 - accuracy: 0.9160 - val_loss: 0.3215 - val_accuracy: 0.9200\n",
            "Epoch 12/100\n",
            "16/16 [==============================] - 0s 7ms/step - loss: 0.2705 - accuracy: 0.9260 - val_loss: 0.2948 - val_accuracy: 0.9300\n",
            "Epoch 13/100\n",
            "16/16 [==============================] - 0s 6ms/step - loss: 0.2506 - accuracy: 0.9300 - val_loss: 0.2858 - val_accuracy: 0.9250\n",
            "Epoch 14/100\n",
            "16/16 [==============================] - 0s 6ms/step - loss: 0.2295 - accuracy: 0.9380 - val_loss: 0.2736 - val_accuracy: 0.9250\n",
            "Epoch 15/100\n",
            "16/16 [==============================] - 0s 7ms/step - loss: 0.2182 - accuracy: 0.9330 - val_loss: 0.2601 - val_accuracy: 0.9300\n",
            "Epoch 16/100\n",
            "16/16 [==============================] - 0s 7ms/step - loss: 0.2030 - accuracy: 0.9410 - val_loss: 0.2512 - val_accuracy: 0.9400\n",
            "Epoch 17/100\n",
            "16/16 [==============================] - 0s 7ms/step - loss: 0.1865 - accuracy: 0.9450 - val_loss: 0.2477 - val_accuracy: 0.9300\n",
            "Epoch 18/100\n",
            "16/16 [==============================] - 0s 7ms/step - loss: 0.1780 - accuracy: 0.9550 - val_loss: 0.2398 - val_accuracy: 0.9300\n",
            "Epoch 19/100\n",
            "16/16 [==============================] - 0s 6ms/step - loss: 0.1705 - accuracy: 0.9480 - val_loss: 0.2348 - val_accuracy: 0.9350\n",
            "Epoch 20/100\n",
            "16/16 [==============================] - 0s 7ms/step - loss: 0.1628 - accuracy: 0.9540 - val_loss: 0.2439 - val_accuracy: 0.9300\n",
            "Epoch 21/100\n",
            "16/16 [==============================] - 0s 8ms/step - loss: 0.1523 - accuracy: 0.9590 - val_loss: 0.2224 - val_accuracy: 0.9350\n",
            "Epoch 22/100\n",
            "16/16 [==============================] - 0s 7ms/step - loss: 0.1413 - accuracy: 0.9620 - val_loss: 0.2215 - val_accuracy: 0.9350\n",
            "Epoch 23/100\n",
            "16/16 [==============================] - 0s 6ms/step - loss: 0.1335 - accuracy: 0.9680 - val_loss: 0.2157 - val_accuracy: 0.9350\n",
            "Epoch 24/100\n",
            "16/16 [==============================] - 0s 7ms/step - loss: 0.1260 - accuracy: 0.9670 - val_loss: 0.2157 - val_accuracy: 0.9400\n",
            "Epoch 25/100\n",
            "16/16 [==============================] - 0s 6ms/step - loss: 0.1189 - accuracy: 0.9660 - val_loss: 0.2108 - val_accuracy: 0.9400\n",
            "Epoch 26/100\n",
            "16/16 [==============================] - 0s 6ms/step - loss: 0.1136 - accuracy: 0.9700 - val_loss: 0.2062 - val_accuracy: 0.9400\n",
            "Epoch 27/100\n",
            "16/16 [==============================] - 0s 7ms/step - loss: 0.1095 - accuracy: 0.9710 - val_loss: 0.2121 - val_accuracy: 0.9350\n",
            "Epoch 28/100\n",
            "16/16 [==============================] - 0s 7ms/step - loss: 0.1019 - accuracy: 0.9760 - val_loss: 0.2038 - val_accuracy: 0.9450\n",
            "Epoch 29/100\n",
            "16/16 [==============================] - 0s 7ms/step - loss: 0.0976 - accuracy: 0.9790 - val_loss: 0.2007 - val_accuracy: 0.9500\n",
            "Epoch 30/100\n",
            "16/16 [==============================] - 0s 6ms/step - loss: 0.0932 - accuracy: 0.9800 - val_loss: 0.2089 - val_accuracy: 0.9450\n",
            "Epoch 31/100\n",
            "16/16 [==============================] - 0s 8ms/step - loss: 0.0901 - accuracy: 0.9800 - val_loss: 0.1981 - val_accuracy: 0.9400\n",
            "Epoch 32/100\n",
            "16/16 [==============================] - 0s 6ms/step - loss: 0.0853 - accuracy: 0.9820 - val_loss: 0.2081 - val_accuracy: 0.9450\n",
            "Epoch 33/100\n",
            "16/16 [==============================] - 0s 6ms/step - loss: 0.0797 - accuracy: 0.9830 - val_loss: 0.1988 - val_accuracy: 0.9450\n",
            "Epoch 34/100\n",
            "16/16 [==============================] - 0s 7ms/step - loss: 0.0728 - accuracy: 0.9870 - val_loss: 0.1994 - val_accuracy: 0.9500\n",
            "Epoch 35/100\n",
            "16/16 [==============================] - 0s 6ms/step - loss: 0.0713 - accuracy: 0.9860 - val_loss: 0.1937 - val_accuracy: 0.9500\n",
            "Epoch 36/100\n",
            "16/16 [==============================] - 0s 7ms/step - loss: 0.0679 - accuracy: 0.9860 - val_loss: 0.2022 - val_accuracy: 0.9350\n",
            "Epoch 37/100\n",
            "16/16 [==============================] - 0s 7ms/step - loss: 0.0659 - accuracy: 0.9860 - val_loss: 0.1927 - val_accuracy: 0.9500\n",
            "Epoch 38/100\n",
            "16/16 [==============================] - 0s 6ms/step - loss: 0.0593 - accuracy: 0.9900 - val_loss: 0.1996 - val_accuracy: 0.9450\n",
            "Epoch 39/100\n",
            "16/16 [==============================] - 0s 7ms/step - loss: 0.0595 - accuracy: 0.9890 - val_loss: 0.1908 - val_accuracy: 0.9450\n",
            "Epoch 40/100\n",
            "16/16 [==============================] - 0s 7ms/step - loss: 0.0538 - accuracy: 0.9890 - val_loss: 0.1916 - val_accuracy: 0.9500\n",
            "Epoch 41/100\n",
            "16/16 [==============================] - 0s 7ms/step - loss: 0.0517 - accuracy: 0.9930 - val_loss: 0.1932 - val_accuracy: 0.9450\n",
            "Epoch 42/100\n",
            "16/16 [==============================] - 0s 6ms/step - loss: 0.0495 - accuracy: 0.9910 - val_loss: 0.1915 - val_accuracy: 0.9500\n",
            "Epoch 43/100\n",
            "16/16 [==============================] - 0s 9ms/step - loss: 0.0449 - accuracy: 0.9920 - val_loss: 0.1901 - val_accuracy: 0.9450\n",
            "Epoch 44/100\n",
            "16/16 [==============================] - 0s 9ms/step - loss: 0.0436 - accuracy: 0.9920 - val_loss: 0.1978 - val_accuracy: 0.9500\n",
            "Epoch 45/100\n",
            "16/16 [==============================] - 0s 9ms/step - loss: 0.0434 - accuracy: 0.9910 - val_loss: 0.2031 - val_accuracy: 0.9400\n",
            "Epoch 46/100\n",
            "16/16 [==============================] - 0s 9ms/step - loss: 0.0433 - accuracy: 0.9930 - val_loss: 0.1939 - val_accuracy: 0.9400\n",
            "Epoch 47/100\n",
            "16/16 [==============================] - 0s 10ms/step - loss: 0.0384 - accuracy: 0.9940 - val_loss: 0.1960 - val_accuracy: 0.9450\n",
            "Epoch 48/100\n",
            "16/16 [==============================] - 0s 10ms/step - loss: 0.0372 - accuracy: 0.9940 - val_loss: 0.1869 - val_accuracy: 0.9450\n",
            "Epoch 49/100\n",
            "16/16 [==============================] - 0s 9ms/step - loss: 0.0345 - accuracy: 0.9950 - val_loss: 0.1926 - val_accuracy: 0.9450\n",
            "Epoch 50/100\n",
            "16/16 [==============================] - 0s 9ms/step - loss: 0.0341 - accuracy: 0.9960 - val_loss: 0.1927 - val_accuracy: 0.9450\n",
            "Epoch 51/100\n",
            "16/16 [==============================] - 0s 9ms/step - loss: 0.0319 - accuracy: 0.9960 - val_loss: 0.1952 - val_accuracy: 0.9400\n",
            "Epoch 52/100\n",
            "16/16 [==============================] - 0s 9ms/step - loss: 0.0315 - accuracy: 0.9960 - val_loss: 0.1850 - val_accuracy: 0.9400\n",
            "Epoch 53/100\n",
            "16/16 [==============================] - 0s 9ms/step - loss: 0.0294 - accuracy: 0.9970 - val_loss: 0.1882 - val_accuracy: 0.9500\n",
            "Epoch 54/100\n",
            "16/16 [==============================] - 0s 11ms/step - loss: 0.0271 - accuracy: 0.9960 - val_loss: 0.1971 - val_accuracy: 0.9350\n",
            "Epoch 55/100\n",
            "16/16 [==============================] - 0s 9ms/step - loss: 0.0253 - accuracy: 0.9980 - val_loss: 0.1945 - val_accuracy: 0.9450\n",
            "Epoch 56/100\n",
            "16/16 [==============================] - 0s 9ms/step - loss: 0.0248 - accuracy: 0.9980 - val_loss: 0.1892 - val_accuracy: 0.9450\n",
            "Epoch 57/100\n",
            "16/16 [==============================] - 0s 9ms/step - loss: 0.0236 - accuracy: 0.9970 - val_loss: 0.1920 - val_accuracy: 0.9350\n",
            "Epoch 58/100\n",
            "16/16 [==============================] - 0s 9ms/step - loss: 0.0220 - accuracy: 0.9980 - val_loss: 0.1937 - val_accuracy: 0.9500\n",
            "Epoch 59/100\n",
            "16/16 [==============================] - 0s 9ms/step - loss: 0.0221 - accuracy: 0.9990 - val_loss: 0.1886 - val_accuracy: 0.9400\n",
            "Epoch 60/100\n",
            "16/16 [==============================] - 0s 9ms/step - loss: 0.0207 - accuracy: 0.9980 - val_loss: 0.1951 - val_accuracy: 0.9350\n",
            "Epoch 61/100\n",
            "16/16 [==============================] - 0s 9ms/step - loss: 0.0201 - accuracy: 0.9990 - val_loss: 0.1926 - val_accuracy: 0.9450\n",
            "Epoch 62/100\n",
            "16/16 [==============================] - 0s 7ms/step - loss: 0.0183 - accuracy: 0.9990 - val_loss: 0.1861 - val_accuracy: 0.9450\n",
            "Epoch 63/100\n",
            "16/16 [==============================] - 0s 7ms/step - loss: 0.0181 - accuracy: 0.9990 - val_loss: 0.1911 - val_accuracy: 0.9350\n",
            "Epoch 64/100\n",
            "16/16 [==============================] - 0s 6ms/step - loss: 0.0175 - accuracy: 0.9990 - val_loss: 0.1986 - val_accuracy: 0.9400\n",
            "Epoch 65/100\n",
            "16/16 [==============================] - 0s 6ms/step - loss: 0.0175 - accuracy: 0.9990 - val_loss: 0.1891 - val_accuracy: 0.9450\n",
            "Epoch 66/100\n",
            "16/16 [==============================] - 0s 6ms/step - loss: 0.0166 - accuracy: 0.9980 - val_loss: 0.1885 - val_accuracy: 0.9450\n",
            "Epoch 67/100\n",
            "16/16 [==============================] - 0s 7ms/step - loss: 0.0155 - accuracy: 0.9990 - val_loss: 0.1935 - val_accuracy: 0.9350\n",
            "Epoch 68/100\n",
            "16/16 [==============================] - 0s 6ms/step - loss: 0.0147 - accuracy: 0.9990 - val_loss: 0.1876 - val_accuracy: 0.9400\n",
            "Epoch 69/100\n",
            "16/16 [==============================] - 0s 7ms/step - loss: 0.0139 - accuracy: 0.9990 - val_loss: 0.1994 - val_accuracy: 0.9350\n",
            "Epoch 70/100\n",
            "16/16 [==============================] - 0s 8ms/step - loss: 0.0142 - accuracy: 0.9990 - val_loss: 0.1897 - val_accuracy: 0.9400\n",
            "Epoch 71/100\n",
            "16/16 [==============================] - 0s 7ms/step - loss: 0.0164 - accuracy: 0.9970 - val_loss: 0.1933 - val_accuracy: 0.9400\n",
            "Epoch 72/100\n",
            "16/16 [==============================] - 0s 7ms/step - loss: 0.0171 - accuracy: 0.9970 - val_loss: 0.2129 - val_accuracy: 0.9300\n",
            "Epoch 73/100\n",
            "16/16 [==============================] - 0s 7ms/step - loss: 0.0215 - accuracy: 0.9940 - val_loss: 0.1997 - val_accuracy: 0.9400\n",
            "Epoch 74/100\n",
            "16/16 [==============================] - 0s 8ms/step - loss: 0.0159 - accuracy: 0.9980 - val_loss: 0.2022 - val_accuracy: 0.9450\n",
            "Epoch 75/100\n",
            "16/16 [==============================] - 0s 7ms/step - loss: 0.0175 - accuracy: 0.9980 - val_loss: 0.2000 - val_accuracy: 0.9450\n",
            "Epoch 76/100\n",
            "16/16 [==============================] - 0s 7ms/step - loss: 0.0123 - accuracy: 0.9990 - val_loss: 0.1908 - val_accuracy: 0.9350\n",
            "Epoch 77/100\n",
            "16/16 [==============================] - 0s 6ms/step - loss: 0.0114 - accuracy: 0.9990 - val_loss: 0.1910 - val_accuracy: 0.9400\n",
            "Epoch 78/100\n",
            "16/16 [==============================] - 0s 7ms/step - loss: 0.0106 - accuracy: 0.9990 - val_loss: 0.1984 - val_accuracy: 0.9400\n",
            "Epoch 79/100\n",
            "16/16 [==============================] - 0s 7ms/step - loss: 0.0104 - accuracy: 0.9990 - val_loss: 0.1906 - val_accuracy: 0.9400\n",
            "Epoch 80/100\n",
            "16/16 [==============================] - 0s 7ms/step - loss: 0.0098 - accuracy: 0.9990 - val_loss: 0.1968 - val_accuracy: 0.9300\n",
            "Epoch 81/100\n",
            "16/16 [==============================] - 0s 7ms/step - loss: 0.0096 - accuracy: 0.9990 - val_loss: 0.1910 - val_accuracy: 0.9300\n",
            "Epoch 82/100\n",
            "16/16 [==============================] - 0s 7ms/step - loss: 0.0087 - accuracy: 0.9990 - val_loss: 0.1993 - val_accuracy: 0.9300\n",
            "Epoch 83/100\n",
            "16/16 [==============================] - 0s 7ms/step - loss: 0.0090 - accuracy: 0.9990 - val_loss: 0.1930 - val_accuracy: 0.9350\n",
            "Epoch 84/100\n",
            "16/16 [==============================] - 0s 6ms/step - loss: 0.0079 - accuracy: 0.9990 - val_loss: 0.2042 - val_accuracy: 0.9350\n",
            "Epoch 85/100\n",
            "16/16 [==============================] - 0s 7ms/step - loss: 0.0079 - accuracy: 0.9990 - val_loss: 0.1931 - val_accuracy: 0.9400\n",
            "Epoch 86/100\n",
            "16/16 [==============================] - 0s 6ms/step - loss: 0.0079 - accuracy: 0.9990 - val_loss: 0.2024 - val_accuracy: 0.9350\n",
            "Epoch 87/100\n",
            "16/16 [==============================] - 0s 8ms/step - loss: 0.0073 - accuracy: 0.9990 - val_loss: 0.1913 - val_accuracy: 0.9350\n",
            "Epoch 88/100\n",
            "16/16 [==============================] - 0s 6ms/step - loss: 0.0075 - accuracy: 0.9990 - val_loss: 0.1970 - val_accuracy: 0.9350\n",
            "Epoch 89/100\n",
            "16/16 [==============================] - 0s 7ms/step - loss: 0.0066 - accuracy: 1.0000 - val_loss: 0.1976 - val_accuracy: 0.9300\n",
            "Epoch 90/100\n",
            "16/16 [==============================] - 0s 8ms/step - loss: 0.0063 - accuracy: 0.9990 - val_loss: 0.1927 - val_accuracy: 0.9350\n",
            "Epoch 91/100\n",
            "16/16 [==============================] - 0s 6ms/step - loss: 0.0062 - accuracy: 1.0000 - val_loss: 0.2045 - val_accuracy: 0.9350\n",
            "Epoch 92/100\n",
            "16/16 [==============================] - 0s 7ms/step - loss: 0.0065 - accuracy: 0.9990 - val_loss: 0.1943 - val_accuracy: 0.9300\n",
            "Epoch 93/100\n",
            "16/16 [==============================] - 0s 6ms/step - loss: 0.0064 - accuracy: 0.9990 - val_loss: 0.1999 - val_accuracy: 0.9350\n",
            "Epoch 94/100\n",
            "16/16 [==============================] - 0s 7ms/step - loss: 0.0082 - accuracy: 0.9990 - val_loss: 0.2232 - val_accuracy: 0.9350\n",
            "Epoch 95/100\n",
            "16/16 [==============================] - 0s 7ms/step - loss: 0.0111 - accuracy: 0.9980 - val_loss: 0.1931 - val_accuracy: 0.9350\n",
            "Epoch 96/100\n",
            "16/16 [==============================] - 0s 7ms/step - loss: 0.0074 - accuracy: 0.9990 - val_loss: 0.1920 - val_accuracy: 0.9300\n",
            "Epoch 97/100\n",
            "16/16 [==============================] - 0s 8ms/step - loss: 0.0109 - accuracy: 0.9970 - val_loss: 0.2104 - val_accuracy: 0.9400\n",
            "Epoch 98/100\n",
            "16/16 [==============================] - 0s 7ms/step - loss: 0.0062 - accuracy: 1.0000 - val_loss: 0.1958 - val_accuracy: 0.9450\n",
            "Epoch 99/100\n",
            "16/16 [==============================] - 0s 7ms/step - loss: 0.0053 - accuracy: 1.0000 - val_loss: 0.1938 - val_accuracy: 0.9300\n",
            "Epoch 100/100\n",
            "16/16 [==============================] - 0s 6ms/step - loss: 0.0047 - accuracy: 1.0000 - val_loss: 0.1970 - val_accuracy: 0.9450\n"
          ]
        }
      ],
      "source": [
        "MLP_model = model.fit(x_train, y_train,\n",
        "          epochs=100,\n",
        "          batch_size=64, validation_data=(x_test, y_test))"
      ]
    },
    {
      "cell_type": "code",
      "execution_count": null,
      "metadata": {
        "colab": {
          "base_uri": "https://localhost:8080/",
          "height": 447
        },
        "id": "SveCNiLkisTF",
        "outputId": "33b3c6d5-2f6d-4434-c3a1-81b22e9e4112"
      },
      "outputs": [
        {
          "output_type": "execute_result",
          "data": {
            "text/plain": [
              "[<matplotlib.lines.Line2D at 0x7f78c0536d10>]"
            ]
          },
          "metadata": {},
          "execution_count": 16
        },
        {
          "output_type": "display_data",
          "data": {
            "text/plain": [
              "<Figure size 640x480 with 1 Axes>"
            ],
            "image/png": "[encoded data removed]"
          },
          "metadata": {}
        }
      ],
      "source": [
        "# plot Loss\n",
        "plt.plot(MLP_model.history[\"loss\"])\n",
        "plt.plot(MLP_model.history[\"val_loss\"])"
      ]
    },
    {
      "cell_type": "code",
      "execution_count": null,
      "metadata": {
        "colab": {
          "base_uri": "https://localhost:8080/",
          "height": 447
        },
        "id": "Cx3VubunisVh",
        "outputId": "52c18029-c962-4250-df0f-2ae1c5e798bf"
      },
      "outputs": [
        {
          "output_type": "execute_result",
          "data": {
            "text/plain": [
              "[<matplotlib.lines.Line2D at 0x7f78c04395d0>]"
            ]
          },
          "metadata": {},
          "execution_count": 17
        },
        {
          "output_type": "display_data",
          "data": {
            "text/plain": [
              "<Figure size 640x480 with 1 Axes>"
            ],
            "image/png": "[encoded data removed]"
          },
          "metadata": {}
        }
      ],
      "source": [
        "# plot accuracy\n",
        "plt.plot(MLP_model.history[\"accuracy\"])\n",
        "plt.plot(MLP_model.history[\"val_accuracy\"])"
      ]
    }
  ],
  "metadata": {
    "colab": {
      "provenance": []
    },
    "kernelspec": {
      "display_name": "Python 3",
      "name": "python3"
    },
    "language_info": {
      "name": "python"
    }
  },
  "nbformat": 4,
  "nbformat_minor": 0
}