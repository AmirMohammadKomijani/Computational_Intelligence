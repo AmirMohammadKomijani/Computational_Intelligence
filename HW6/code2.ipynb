{
 "cells": [
  {
   "cell_type": "markdown",
   "metadata": {},
   "source": [
    "**Libraries**"
   ]
  },
  {
   "cell_type": "code",
   "execution_count": 184,
   "metadata": {},
   "outputs": [],
   "source": [
    "import random\n",
    "import numpy as np\n",
    "import matplotlib.pyplot as plt"
   ]
  },
  {
   "cell_type": "markdown",
   "metadata": {},
   "source": [
    "**Variables**"
   ]
  },
  {
   "cell_type": "code",
   "execution_count": 185,
   "metadata": {},
   "outputs": [],
   "source": [
    "population_size = 100\n",
    "chromosome_length = 10\n",
    "mutation_rate = 0.01\n",
    "crossover_rate = 0.7\n",
    "generations = 1000"
   ]
  },
  {
   "cell_type": "markdown",
   "metadata": {},
   "source": [
    "**Equations**"
   ]
  },
  {
   "cell_type": "code",
   "execution_count": 186,
   "metadata": {},
   "outputs": [],
   "source": [
    "def equation1(x):\n",
    "    return 2*x - 4\n",
    "\n",
    "def equation2(x):\n",
    "    return x**2 - 8*x + 4\n",
    "\n",
    "def equation3(x):\n",
    "    return 4*x**3 - 5*x**2 + x - 1\n",
    "\n",
    "def equation4(x):\n",
    "    return 186*x**3 - 7.22*x**2 + 15.5*x - 13.2\n",
    "\n",
    "\n",
    "equation_functions = [equation1, equation2, equation3, equation4]\n"
   ]
  },
  {
   "cell_type": "markdown",
   "metadata": {},
   "source": [
    "**1st step : Population**"
   ]
  },
  {
   "cell_type": "code",
   "execution_count": 187,
   "metadata": {},
   "outputs": [],
   "source": [
    "def initialize_population(size, length):\n",
    "    return np.random.randint(2, size=(size, length))"
   ]
  },
  {
   "cell_type": "markdown",
   "metadata": {},
   "source": [
    "**2nd step : Representation / Encoding individuals in population / using Gray coding**"
   ]
  },
  {
   "cell_type": "code",
   "execution_count": 188,
   "metadata": {},
   "outputs": [],
   "source": [
    "def gray_encode(gray):\n",
    "    binary = [gray[0]]\n",
    "    for i in range(1, len(gray)):\n",
    "        binary.append(gray[i] ^ gray[i-1])\n",
    "    return np.array(binary)\n",
    "\n",
    "def gray_to_decimal(binary):\n",
    "    return int(''.join(map(str, binary)), 2)"
   ]
  },
  {
   "cell_type": "markdown",
   "metadata": {},
   "source": [
    "**3rd step : fitness evaluation**"
   ]
  },
  {
   "cell_type": "code",
   "execution_count": 189,
   "metadata": {},
   "outputs": [],
   "source": [
    "def fitness(chromosome, equation):\n",
    "    decoded_chromosome = gray_to_decimal(gray_encode(chromosome))\n",
    "    x = decoded_chromosome  \n",
    "    return 1 / (1 + abs(eval(equation)))"
   ]
  },
  {
   "cell_type": "markdown",
   "metadata": {},
   "source": [
    "**Selection : we use tournament selection**"
   ]
  },
  {
   "cell_type": "code",
   "execution_count": 190,
   "metadata": {},
   "outputs": [],
   "source": [
    "def tournament_selection(population, fitness_values):\n",
    "    selected_indivuals = np.random.choice(len(population), size=2)\n",
    "    return population[selected_indivuals[np.argmax(fitness_values[selected_indivuals])]]"
   ]
  },
  {
   "cell_type": "markdown",
   "metadata": {},
   "source": [
    "**Crossover**"
   ]
  },
  {
   "cell_type": "code",
   "execution_count": 191,
   "metadata": {},
   "outputs": [],
   "source": [
    "def crossover(parent1, parent2):\n",
    "    crossover_point = np.random.randint(len(parent1))\n",
    "    child1 = np.concatenate((parent1[:crossover_point], parent2[crossover_point:]))\n",
    "    child2 = np.concatenate((parent2[:crossover_point], parent1[crossover_point:]))\n",
    "    return child1, child2"
   ]
  },
  {
   "cell_type": "markdown",
   "metadata": {},
   "source": [
    "**Mutation**"
   ]
  },
  {
   "cell_type": "code",
   "execution_count": 192,
   "metadata": {},
   "outputs": [],
   "source": [
    "def mutation(child):\n",
    "    mutation_points = np.random.rand(len(child)) < mutation_rate\n",
    "    child[mutation_points] = 1 - child[mutation_points]\n",
    "    return child"
   ]
  },
  {
   "cell_type": "markdown",
   "metadata": {},
   "source": [
    "**Run the algorithm**"
   ]
  },
  {
   "cell_type": "code",
   "execution_count": 193,
   "metadata": {},
   "outputs": [
    {
     "name": "stdout",
     "output_type": "stream",
     "text": [
      "\n",
      "Running Genetic Algorithm for Equation 1\n",
      "\n"
     ]
    },
    {
     "name": "stdout",
     "output_type": "stream",
     "text": [
      "The best solution for Equation 1 is x = 2, with fitness 1.0\n",
      "\n",
      "Running Genetic Algorithm for Equation 2\n",
      "\n",
      "The best solution for Equation 2 is x = 1, with fitness 0.25\n",
      "\n",
      "Running Genetic Algorithm for Equation 3\n",
      "\n",
      "The best solution for Equation 3 is x = 0, with fitness 0.5\n",
      "\n",
      "Running Genetic Algorithm for Equation 4\n",
      "\n",
      "The best solution for Equation 4 is x = 0, with fitness 0.07042253521126761\n"
     ]
    }
   ],
   "source": [
    "population = initialize_population(population_size, chromosome_length)\n",
    "for equation_index, equation_func in enumerate(equation_functions):\n",
    "    print(f\"\\nRunning Genetic Algorithm for Equation {equation_index + 1}\\n\")\n",
    "\n",
    "    # Main genetic algorithm loop\n",
    "    population = initialize_population(population_size, chromosome_length)\n",
    "    for generation in range(generations):\n",
    "        fitness_values = np.array([1 / (1 + abs(equation_func(decoded_chromosome))) for decoded_chromosome in [gray_to_decimal(gray_encode(chromosome)) for chromosome in population]])\n",
    "        parents = [tournament_selection(population, fitness_values) for _ in range(population_size)]\n",
    "        new_generations = []\n",
    "\n",
    "        for i in range(0, population_size, 2):\n",
    "            parent1, parent2 = parents[i], parents[i+1]\n",
    "            child1, child2 = crossover(parent1, parent2)\n",
    "            child1 = mutation(child1)\n",
    "            child2 = mutation(child2)\n",
    "            new_generations.extend([child1, child2])\n",
    "\n",
    "        population = np.array(new_generations)\n",
    "\n",
    "    # Find the best solution in the final population\n",
    "    best_solution_index = np.argmax(fitness_values)\n",
    "    best_solution = population[best_solution_index]\n",
    "\n",
    "    # Decode and print the result\n",
    "    decoded_solution = gray_to_decimal(gray_encode(best_solution))\n",
    "    print(f\"The best solution for Equation {equation_index + 1} is x = {decoded_solution}, with fitness {fitness_values[best_solution_index]}\")"
   ]
  }
 ],
 "metadata": {
  "kernelspec": {
   "display_name": "Python 3",
   "language": "python",
   "name": "python3"
  },
  "language_info": {
   "codemirror_mode": {
    "name": "ipython",
    "version": 3
   },
   "file_extension": ".py",
   "mimetype": "text/x-python",
   "name": "python",
   "nbconvert_exporter": "python",
   "pygments_lexer": "ipython3",
   "version": "3.11.0"
  }
 },
 "nbformat": 4,
 "nbformat_minor": 2
}
